{
 "cells": [
  {
   "cell_type": "markdown",
   "metadata": {},
   "source": [
    "## Charging Stations Locations Analysis"
   ]
  },
  {
   "cell_type": "code",
   "execution_count": 2,
   "metadata": {},
   "outputs": [],
   "source": [
    "import pandas as pd\n",
    "import numpy as np\n",
    "import matplotlib.pyplot as plt\n",
    "import seaborn as sns"
   ]
  },
  {
   "cell_type": "code",
   "execution_count": 3,
   "metadata": {},
   "outputs": [],
   "source": [
    "df = pd.read_csv(\"data\\locations\\ev_final.csv\")"
   ]
  },
  {
   "cell_type": "code",
   "execution_count": 4,
   "metadata": {},
   "outputs": [
    {
     "data": {
      "text/html": [
       "<div>\n",
       "<style scoped>\n",
       "    .dataframe tbody tr th:only-of-type {\n",
       "        vertical-align: middle;\n",
       "    }\n",
       "\n",
       "    .dataframe tbody tr th {\n",
       "        vertical-align: top;\n",
       "    }\n",
       "\n",
       "    .dataframe thead th {\n",
       "        text-align: right;\n",
       "    }\n",
       "</style>\n",
       "<table border=\"1\" class=\"dataframe\">\n",
       "  <thead>\n",
       "    <tr style=\"text-align: right;\">\n",
       "      <th></th>\n",
       "      <th>uid</th>\n",
       "      <th>name</th>\n",
       "      <th>vendor_name</th>\n",
       "      <th>address</th>\n",
       "      <th>latitude</th>\n",
       "      <th>longitude</th>\n",
       "      <th>city</th>\n",
       "      <th>country</th>\n",
       "      <th>open</th>\n",
       "      <th>close</th>\n",
       "      <th>...</th>\n",
       "      <th>postal_code</th>\n",
       "      <th>zone</th>\n",
       "      <th>0</th>\n",
       "      <th>available</th>\n",
       "      <th>capacity</th>\n",
       "      <th>cost_per_unit</th>\n",
       "      <th>power_type</th>\n",
       "      <th>total</th>\n",
       "      <th>type</th>\n",
       "      <th>vehicle_type</th>\n",
       "    </tr>\n",
       "  </thead>\n",
       "  <tbody>\n",
       "    <tr>\n",
       "      <th>0</th>\n",
       "      <td>STATIC12</td>\n",
       "      <td>GensolCharge Pvt. Ltd.</td>\n",
       "      <td>GensolCharge Pvt. Ltd.</td>\n",
       "      <td>NDSE Grid, BRPL South Extension</td>\n",
       "      <td>28.568238</td>\n",
       "      <td>77.219666</td>\n",
       "      <td>Delhi</td>\n",
       "      <td>India</td>\n",
       "      <td>00:00:00</td>\n",
       "      <td>23:59:59</td>\n",
       "      <td>...</td>\n",
       "      <td>110001</td>\n",
       "      <td>central-delhi</td>\n",
       "      <td>NaN</td>\n",
       "      <td>NaN</td>\n",
       "      <td>15 kW</td>\n",
       "      <td>NaN</td>\n",
       "      <td>DC</td>\n",
       "      <td>2.0</td>\n",
       "      <td>BEVC DC 001</td>\n",
       "      <td>['4W']</td>\n",
       "    </tr>\n",
       "    <tr>\n",
       "      <th>1</th>\n",
       "      <td>STATIC14</td>\n",
       "      <td>REIL</td>\n",
       "      <td>REIL</td>\n",
       "      <td>Scada office kalka ji</td>\n",
       "      <td>28.541995</td>\n",
       "      <td>77.260583</td>\n",
       "      <td>Delhi</td>\n",
       "      <td>India</td>\n",
       "      <td>00:00:00</td>\n",
       "      <td>23:59:59</td>\n",
       "      <td>...</td>\n",
       "      <td>110001</td>\n",
       "      <td>central-delhi</td>\n",
       "      <td>NaN</td>\n",
       "      <td>NaN</td>\n",
       "      <td>3.3 kW</td>\n",
       "      <td>NaN</td>\n",
       "      <td>AC</td>\n",
       "      <td>3.0</td>\n",
       "      <td>BEVC AC 001</td>\n",
       "      <td>['2W', '3W', '4W']</td>\n",
       "    </tr>\n",
       "    <tr>\n",
       "      <th>2</th>\n",
       "      <td>STATIC15</td>\n",
       "      <td>REIL</td>\n",
       "      <td>REIL</td>\n",
       "      <td>Ashram Chowk Mathura Road</td>\n",
       "      <td>28.571189</td>\n",
       "      <td>77.259806</td>\n",
       "      <td>Delhi</td>\n",
       "      <td>India</td>\n",
       "      <td>00:00:00</td>\n",
       "      <td>23:59:59</td>\n",
       "      <td>...</td>\n",
       "      <td>110001</td>\n",
       "      <td>central-delhi</td>\n",
       "      <td>NaN</td>\n",
       "      <td>NaN</td>\n",
       "      <td>15 kW</td>\n",
       "      <td>NaN</td>\n",
       "      <td>DC</td>\n",
       "      <td>2.0</td>\n",
       "      <td>BEVC DC 001</td>\n",
       "      <td>['4W']</td>\n",
       "    </tr>\n",
       "    <tr>\n",
       "      <th>3</th>\n",
       "      <td>STATIC16</td>\n",
       "      <td>REIL</td>\n",
       "      <td>REIL</td>\n",
       "      <td>Nizamuddin Railway station</td>\n",
       "      <td>28.588991</td>\n",
       "      <td>77.253240</td>\n",
       "      <td>Delhi</td>\n",
       "      <td>India</td>\n",
       "      <td>00:00:00</td>\n",
       "      <td>23:59:59</td>\n",
       "      <td>...</td>\n",
       "      <td>110001</td>\n",
       "      <td>central-delhi</td>\n",
       "      <td>NaN</td>\n",
       "      <td>NaN</td>\n",
       "      <td>15 kW</td>\n",
       "      <td>NaN</td>\n",
       "      <td>DC</td>\n",
       "      <td>4.0</td>\n",
       "      <td>BEVC DC 001</td>\n",
       "      <td>['4W']</td>\n",
       "    </tr>\n",
       "    <tr>\n",
       "      <th>4</th>\n",
       "      <td>STATIC17</td>\n",
       "      <td>BluSmart</td>\n",
       "      <td>BluSmart</td>\n",
       "      <td>BSES Bhawan, Nehru Place, New Delhi 110048</td>\n",
       "      <td>28.549427</td>\n",
       "      <td>77.254636</td>\n",
       "      <td>Delhi</td>\n",
       "      <td>India</td>\n",
       "      <td>00:00:00</td>\n",
       "      <td>23:59:59</td>\n",
       "      <td>...</td>\n",
       "      <td>110001</td>\n",
       "      <td>central-delhi</td>\n",
       "      <td>NaN</td>\n",
       "      <td>NaN</td>\n",
       "      <td>15 kW</td>\n",
       "      <td>NaN</td>\n",
       "      <td>DC</td>\n",
       "      <td>1.0</td>\n",
       "      <td>BEVC DC 001</td>\n",
       "      <td>['4W']</td>\n",
       "    </tr>\n",
       "  </tbody>\n",
       "</table>\n",
       "<p>5 rows × 25 columns</p>\n",
       "</div>"
      ],
      "text/plain": [
       "        uid                    name             vendor_name  \\\n",
       "0  STATIC12  GensolCharge Pvt. Ltd.  GensolCharge Pvt. Ltd.   \n",
       "1  STATIC14                    REIL                    REIL   \n",
       "2  STATIC15                    REIL                    REIL   \n",
       "3  STATIC16                    REIL                    REIL   \n",
       "4  STATIC17                BluSmart                BluSmart   \n",
       "\n",
       "                                      address   latitude  longitude   city  \\\n",
       "0             NDSE Grid, BRPL South Extension  28.568238  77.219666  Delhi   \n",
       "1                       Scada office kalka ji  28.541995  77.260583  Delhi   \n",
       "2                   Ashram Chowk Mathura Road  28.571189  77.259806  Delhi   \n",
       "3                  Nizamuddin Railway station  28.588991  77.253240  Delhi   \n",
       "4  BSES Bhawan, Nehru Place, New Delhi 110048  28.549427  77.254636  Delhi   \n",
       "\n",
       "  country      open     close  ... postal_code           zone   0 available  \\\n",
       "0   India  00:00:00  23:59:59  ...      110001  central-delhi NaN       NaN   \n",
       "1   India  00:00:00  23:59:59  ...      110001  central-delhi NaN       NaN   \n",
       "2   India  00:00:00  23:59:59  ...      110001  central-delhi NaN       NaN   \n",
       "3   India  00:00:00  23:59:59  ...      110001  central-delhi NaN       NaN   \n",
       "4   India  00:00:00  23:59:59  ...      110001  central-delhi NaN       NaN   \n",
       "\n",
       "  capacity  cost_per_unit power_type  total         type        vehicle_type  \n",
       "0    15 kW            NaN         DC    2.0  BEVC DC 001              ['4W']  \n",
       "1   3.3 kW            NaN         AC    3.0  BEVC AC 001  ['2W', '3W', '4W']  \n",
       "2    15 kW            NaN         DC    2.0  BEVC DC 001              ['4W']  \n",
       "3    15 kW            NaN         DC    4.0  BEVC DC 001              ['4W']  \n",
       "4    15 kW            NaN         DC    1.0  BEVC DC 001              ['4W']  \n",
       "\n",
       "[5 rows x 25 columns]"
      ]
     },
     "execution_count": 4,
     "metadata": {},
     "output_type": "execute_result"
    }
   ],
   "source": [
    "df.head()"
   ]
  },
  {
   "cell_type": "code",
   "execution_count": 5,
   "metadata": {},
   "outputs": [
    {
     "data": {
      "text/plain": [
       "array(['Delhi', 'New Delhi', 'Dwarka', 'Nagpur', 'Chennai', 'Kolkata',\n",
       "       'Thiruvananthapuram', 'Kochi', 'Panaji', 'Raipur', 'Gurgaon',\n",
       "       'Kollam', 'Ahmedabad', 'Bengaluru', 'Kottayam', 'Palakkad',\n",
       "       'Kasaragod', 'Mapusa', 'Thrissur', 'Hardwar', 'Kozhikode',\n",
       "       'Kannur', 'Alappuzha', 'Dehradun', 'Dhanbad', 'Malappuram'],\n",
       "      dtype=object)"
      ]
     },
     "execution_count": 5,
     "metadata": {},
     "output_type": "execute_result"
    }
   ],
   "source": [
    "df[\"city\"].unique()"
   ]
  },
  {
   "cell_type": "code",
   "execution_count": 25,
   "metadata": {},
   "outputs": [],
   "source": [
    "city = ['Delhi', 'New Delhi', 'Dwarka', 'Nagpur', 'Chennai', 'Kolkata',\n",
    "       'Thiruvananthapuram', 'Kochi', 'Panaji', 'Raipur', 'Gurgaon',\n",
    "       'Kollam', 'Ahmedabad', 'Bengaluru', 'Kottayam', 'Palakkad',\n",
    "       'Kasaragod', 'Mapusa', 'Thrissur', 'Hardwar', 'Kozhikode',\n",
    "       'Kannur', 'Alappuzha', 'Dehradun', 'Dhanbad', 'Malappuram']\n",
    "\n",
    "no = []\n",
    "\n",
    "for i in city:\n",
    "    count = (df[\"city\"] == i).sum()\n",
    "    no.append(count)"
   ]
  },
  {
   "cell_type": "code",
   "execution_count": 28,
   "metadata": {},
   "outputs": [
    {
     "data": {
      "image/png": "[encoded data removed]",
      "text/plain": [
       "<Figure size 640x480 with 1 Axes>"
      ]
     },
     "metadata": {},
     "output_type": "display_data"
    }
   ],
   "source": [
    "plt.bar(city, no)\n",
    "\n",
    "plt.xlabel('City')\n",
    "plt.ylabel('Number of Charging Stations')\n",
    "plt.title('Distribution of Charging Stations in Major Cities')\n",
    "\n",
    "plt.xticks(rotation=90)\n",
    "\n",
    "plt.show()"
   ]
  },
  {
   "cell_type": "code",
   "execution_count": 33,
   "metadata": {},
   "outputs": [
    {
     "data": {
      "text/plain": [
       "array(['DC', 'AC', nan], dtype=object)"
      ]
     },
     "execution_count": 33,
     "metadata": {},
     "output_type": "execute_result"
    }
   ],
   "source": [
    "df[\"power_type\"].unique()"
   ]
  },
  {
   "cell_type": "code",
   "execution_count": 36,
   "metadata": {},
   "outputs": [
    {
     "data": {
      "text/plain": [
       "208"
      ]
     },
     "execution_count": 36,
     "metadata": {},
     "output_type": "execute_result"
    }
   ],
   "source": [
    "df[\"power_type\"].isnull().sum()"
   ]
  },
  {
   "cell_type": "code",
   "execution_count": 39,
   "metadata": {},
   "outputs": [],
   "source": [
    "power_type = ['DC', 'AC']\n",
    "count = []\n",
    "\n",
    "for i in power_type:\n",
    "    num = (df[\"power_type\"] == i).sum()\n",
    "    count.append(num)\n",
    "\n",
    "power_type.append(\"NULL\")\n",
    "count.append(208)"
   ]
  },
  {
   "cell_type": "code",
   "execution_count": 49,
   "metadata": {},
   "outputs": [
    {
     "data": {
      "image/png": "[encoded data removed]",
      "text/plain": [
       "<Figure size 500x500 with 1 Axes>"
      ]
     },
     "metadata": {},
     "output_type": "display_data"
    }
   ],
   "source": [
    "plt.figure(figsize=(5,5))\n",
    "plt.pie(count, labels=power_type, autopct='%1.1f%%', startangle=140)\n",
    "\n",
    "plt.axis('equal')\n",
    "\n",
    "plt.title('Power Type Distribution')\n",
    "plt.tight_layout()\n",
    "plt.show()"
   ]
  },
  {
   "cell_type": "code",
   "execution_count": 50,
   "metadata": {},
   "outputs": [
    {
     "data": {
      "text/html": [
       "<div>\n",
       "<style scoped>\n",
       "    .dataframe tbody tr th:only-of-type {\n",
       "        vertical-align: middle;\n",
       "    }\n",
       "\n",
       "    .dataframe tbody tr th {\n",
       "        vertical-align: top;\n",
       "    }\n",
       "\n",
       "    .dataframe thead th {\n",
       "        text-align: right;\n",
       "    }\n",
       "</style>\n",
       "<table border=\"1\" class=\"dataframe\">\n",
       "  <thead>\n",
       "    <tr style=\"text-align: right;\">\n",
       "      <th></th>\n",
       "      <th>uid</th>\n",
       "      <th>name</th>\n",
       "      <th>vendor_name</th>\n",
       "      <th>address</th>\n",
       "      <th>latitude</th>\n",
       "      <th>longitude</th>\n",
       "      <th>city</th>\n",
       "      <th>country</th>\n",
       "      <th>open</th>\n",
       "      <th>close</th>\n",
       "      <th>...</th>\n",
       "      <th>postal_code</th>\n",
       "      <th>zone</th>\n",
       "      <th>0</th>\n",
       "      <th>available</th>\n",
       "      <th>capacity</th>\n",
       "      <th>cost_per_unit</th>\n",
       "      <th>power_type</th>\n",
       "      <th>total</th>\n",
       "      <th>type</th>\n",
       "      <th>vehicle_type</th>\n",
       "    </tr>\n",
       "  </thead>\n",
       "  <tbody>\n",
       "    <tr>\n",
       "      <th>0</th>\n",
       "      <td>STATIC12</td>\n",
       "      <td>GensolCharge Pvt. Ltd.</td>\n",
       "      <td>GensolCharge Pvt. Ltd.</td>\n",
       "      <td>NDSE Grid, BRPL South Extension</td>\n",
       "      <td>28.568238</td>\n",
       "      <td>77.219666</td>\n",
       "      <td>Delhi</td>\n",
       "      <td>India</td>\n",
       "      <td>00:00:00</td>\n",
       "      <td>23:59:59</td>\n",
       "      <td>...</td>\n",
       "      <td>110001</td>\n",
       "      <td>central-delhi</td>\n",
       "      <td>NaN</td>\n",
       "      <td>NaN</td>\n",
       "      <td>15 kW</td>\n",
       "      <td>NaN</td>\n",
       "      <td>DC</td>\n",
       "      <td>2.0</td>\n",
       "      <td>BEVC DC 001</td>\n",
       "      <td>['4W']</td>\n",
       "    </tr>\n",
       "    <tr>\n",
       "      <th>1</th>\n",
       "      <td>STATIC14</td>\n",
       "      <td>REIL</td>\n",
       "      <td>REIL</td>\n",
       "      <td>Scada office kalka ji</td>\n",
       "      <td>28.541995</td>\n",
       "      <td>77.260583</td>\n",
       "      <td>Delhi</td>\n",
       "      <td>India</td>\n",
       "      <td>00:00:00</td>\n",
       "      <td>23:59:59</td>\n",
       "      <td>...</td>\n",
       "      <td>110001</td>\n",
       "      <td>central-delhi</td>\n",
       "      <td>NaN</td>\n",
       "      <td>NaN</td>\n",
       "      <td>3.3 kW</td>\n",
       "      <td>NaN</td>\n",
       "      <td>AC</td>\n",
       "      <td>3.0</td>\n",
       "      <td>BEVC AC 001</td>\n",
       "      <td>['2W', '3W', '4W']</td>\n",
       "    </tr>\n",
       "    <tr>\n",
       "      <th>2</th>\n",
       "      <td>STATIC15</td>\n",
       "      <td>REIL</td>\n",
       "      <td>REIL</td>\n",
       "      <td>Ashram Chowk Mathura Road</td>\n",
       "      <td>28.571189</td>\n",
       "      <td>77.259806</td>\n",
       "      <td>Delhi</td>\n",
       "      <td>India</td>\n",
       "      <td>00:00:00</td>\n",
       "      <td>23:59:59</td>\n",
       "      <td>...</td>\n",
       "      <td>110001</td>\n",
       "      <td>central-delhi</td>\n",
       "      <td>NaN</td>\n",
       "      <td>NaN</td>\n",
       "      <td>15 kW</td>\n",
       "      <td>NaN</td>\n",
       "      <td>DC</td>\n",
       "      <td>2.0</td>\n",
       "      <td>BEVC DC 001</td>\n",
       "      <td>['4W']</td>\n",
       "    </tr>\n",
       "    <tr>\n",
       "      <th>3</th>\n",
       "      <td>STATIC16</td>\n",
       "      <td>REIL</td>\n",
       "      <td>REIL</td>\n",
       "      <td>Nizamuddin Railway station</td>\n",
       "      <td>28.588991</td>\n",
       "      <td>77.253240</td>\n",
       "      <td>Delhi</td>\n",
       "      <td>India</td>\n",
       "      <td>00:00:00</td>\n",
       "      <td>23:59:59</td>\n",
       "      <td>...</td>\n",
       "      <td>110001</td>\n",
       "      <td>central-delhi</td>\n",
       "      <td>NaN</td>\n",
       "      <td>NaN</td>\n",
       "      <td>15 kW</td>\n",
       "      <td>NaN</td>\n",
       "      <td>DC</td>\n",
       "      <td>4.0</td>\n",
       "      <td>BEVC DC 001</td>\n",
       "      <td>['4W']</td>\n",
       "    </tr>\n",
       "    <tr>\n",
       "      <th>4</th>\n",
       "      <td>STATIC17</td>\n",
       "      <td>BluSmart</td>\n",
       "      <td>BluSmart</td>\n",
       "      <td>BSES Bhawan, Nehru Place, New Delhi 110048</td>\n",
       "      <td>28.549427</td>\n",
       "      <td>77.254636</td>\n",
       "      <td>Delhi</td>\n",
       "      <td>India</td>\n",
       "      <td>00:00:00</td>\n",
       "      <td>23:59:59</td>\n",
       "      <td>...</td>\n",
       "      <td>110001</td>\n",
       "      <td>central-delhi</td>\n",
       "      <td>NaN</td>\n",
       "      <td>NaN</td>\n",
       "      <td>15 kW</td>\n",
       "      <td>NaN</td>\n",
       "      <td>DC</td>\n",
       "      <td>1.0</td>\n",
       "      <td>BEVC DC 001</td>\n",
       "      <td>['4W']</td>\n",
       "    </tr>\n",
       "  </tbody>\n",
       "</table>\n",
       "<p>5 rows × 25 columns</p>\n",
       "</div>"
      ],
      "text/plain": [
       "        uid                    name             vendor_name  \\\n",
       "0  STATIC12  GensolCharge Pvt. Ltd.  GensolCharge Pvt. Ltd.   \n",
       "1  STATIC14                    REIL                    REIL   \n",
       "2  STATIC15                    REIL                    REIL   \n",
       "3  STATIC16                    REIL                    REIL   \n",
       "4  STATIC17                BluSmart                BluSmart   \n",
       "\n",
       "                                      address   latitude  longitude   city  \\\n",
       "0             NDSE Grid, BRPL South Extension  28.568238  77.219666  Delhi   \n",
       "1                       Scada office kalka ji  28.541995  77.260583  Delhi   \n",
       "2                   Ashram Chowk Mathura Road  28.571189  77.259806  Delhi   \n",
       "3                  Nizamuddin Railway station  28.588991  77.253240  Delhi   \n",
       "4  BSES Bhawan, Nehru Place, New Delhi 110048  28.549427  77.254636  Delhi   \n",
       "\n",
       "  country      open     close  ... postal_code           zone   0 available  \\\n",
       "0   India  00:00:00  23:59:59  ...      110001  central-delhi NaN       NaN   \n",
       "1   India  00:00:00  23:59:59  ...      110001  central-delhi NaN       NaN   \n",
       "2   India  00:00:00  23:59:59  ...      110001  central-delhi NaN       NaN   \n",
       "3   India  00:00:00  23:59:59  ...      110001  central-delhi NaN       NaN   \n",
       "4   India  00:00:00  23:59:59  ...      110001  central-delhi NaN       NaN   \n",
       "\n",
       "  capacity  cost_per_unit power_type  total         type        vehicle_type  \n",
       "0    15 kW            NaN         DC    2.0  BEVC DC 001              ['4W']  \n",
       "1   3.3 kW            NaN         AC    3.0  BEVC AC 001  ['2W', '3W', '4W']  \n",
       "2    15 kW            NaN         DC    2.0  BEVC DC 001              ['4W']  \n",
       "3    15 kW            NaN         DC    4.0  BEVC DC 001              ['4W']  \n",
       "4    15 kW            NaN         DC    1.0  BEVC DC 001              ['4W']  \n",
       "\n",
       "[5 rows x 25 columns]"
      ]
     },
     "execution_count": 50,
     "metadata": {},
     "output_type": "execute_result"
    }
   ],
   "source": [
    "df.head()"
   ]
  },
  {
   "cell_type": "code",
   "execution_count": 62,
   "metadata": {},
   "outputs": [
    {
     "data": {
      "text/plain": [
       "array(['GensolCharge Pvt. Ltd.', 'REIL', 'BluSmart', 'Smart E', 'EEE',\n",
       "       'HPCL', 'BSES', 'PlugNgo', 'TPDDL', 'EESL', 'REVOS',\n",
       "       'E-Fill Electric', 'Powerbank', 'BLUSMART', 'Pvt. Ltd.', 'Jio-bp',\n",
       "       'Sun Mobility', 'JBM Renewables', 'BatterySmart', 'ElectriVa',\n",
       "       'Verdemobility'], dtype=object)"
      ]
     },
     "execution_count": 62,
     "metadata": {},
     "output_type": "execute_result"
    }
   ],
   "source": [
    "df[\"vendor_name\"].unique()"
   ]
  },
  {
   "cell_type": "code",
   "execution_count": null,
   "metadata": {},
   "outputs": [],
   "source": []
  }
 ],
 "metadata": {
  "kernelspec": {
   "display_name": "Python 3",
   "language": "python",
   "name": "python3"
  },
  "language_info": {
   "codemirror_mode": {
    "name": "ipython",
    "version": 3
   },
   "file_extension": ".py",
   "mimetype": "text/x-python",
   "name": "python",
   "nbconvert_exporter": "python",
   "pygments_lexer": "ipython3",
   "version": "3.11.8"
  }
 },
 "nbformat": 4,
 "nbformat_minor": 2
}
